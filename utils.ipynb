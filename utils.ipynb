{
 "cells": [
  {
   "cell_type": "markdown",
   "id": "cc0ae306-942f-4d0a-b9a4-81f18090c556",
   "metadata": {},
   "source": [
    "<b> Objective: Build a character-level RNN that, when given a family name, can predict the language of origin of that name. </b>"
   ]
  },
  {
   "cell_type": "code",
   "execution_count": 1,
   "id": "304afbe2-65c7-4d0f-b232-17f097f6b69d",
   "metadata": {},
   "outputs": [],
   "source": [
    "import io\n",
    "import glob\n",
    "import os"
   ]
  },
  {
   "cell_type": "code",
   "execution_count": 2,
   "id": "9267cb0f-8cde-4669-862c-868b067ff7b6",
   "metadata": {},
   "outputs": [],
   "source": [
    "import unicodedata\n",
    "import string"
   ]
  },
  {
   "cell_type": "code",
   "execution_count": 3,
   "id": "e422d276-62f7-4d8b-b815-2aaff30edb8e",
   "metadata": {},
   "outputs": [],
   "source": [
    "import torch\n",
    "import random"
   ]
  },
  {
   "cell_type": "code",
   "execution_count": 4,
   "id": "4d580238-6f79-43ab-8973-a4e20eb1ed89",
   "metadata": {},
   "outputs": [],
   "source": [
    "# String of all letters in English Alphabet + additional characters\n",
    "all_letters = string.ascii_letters + \" .,;'\" #Extra punctuation marks allow the model to handle real-world uncleaned data that might contain some noise\n",
    "n_letters = len(all_letters) #57"
   ]
  },
  {
   "cell_type": "code",
   "execution_count": 5,
   "id": "b017e224-3c54-462b-9d47-69d419e0562b",
   "metadata": {},
   "outputs": [
    {
     "name": "stdout",
     "output_type": "stream",
     "text": [
      "abcdefghijklmnopqrstuvwxyzABCDEFGHIJKLMNOPQRSTUVWXYZ .,;'\n"
     ]
    }
   ],
   "source": [
    "print(all_letters)"
   ]
  },
  {
   "cell_type": "code",
   "execution_count": 6,
   "id": "9fe0e666-bba9-4bfb-856a-4e67e96382dd",
   "metadata": {},
   "outputs": [],
   "source": [
    "# Convert a Unicode string to plain ASCII (removing non-ASCII characters or diacritical marks (accents))\n",
    "# Reference - https://stackoverflow.com/a/518232/2809427\n",
    "def unicodeToAscii(s):\n",
    "    return ''.join(\n",
    "        c for c in unicodedata.normalize('NFD', s) # Normalization Form Decomposition\n",
    "        if unicodedata.category(c) != 'Mn' # Mark, Non-Spacing\n",
    "        and c in all_letters\n",
    "    )"
   ]
  },
  {
   "cell_type": "code",
   "execution_count": 7,
   "id": "1aeafb44-e52b-4d62-bc94-8748c486daac",
   "metadata": {},
   "outputs": [
    {
     "name": "stdout",
     "output_type": "stream",
     "text": [
      "Slusarski\n",
      "Jalapeno\n",
      "AuYong\n"
     ]
    }
   ],
   "source": [
    "print(unicodeToAscii('Ślusàrski'))\n",
    "print(unicodeToAscii('Jalapeño'))\n",
    "print(unicodeToAscii('Au-Yong'))"
   ]
  },
  {
   "cell_type": "code",
   "execution_count": 8,
   "id": "7d67b6fe-7ca5-49e6-9e69-23715669cfd9",
   "metadata": {},
   "outputs": [],
   "source": [
    "def load_data():\n",
    "    # Build the category_lines dictionary, a list of names per language\n",
    "    category_lines = {}\n",
    "    all_categories = []\n",
    "\n",
    "    # Function to find files from a path\n",
    "    def find_files(path):\n",
    "        return glob.glob(path)\n",
    "    \n",
    "    # Read a file and split into lines, converts every line from Unicode to ASCII\n",
    "    def read_lines(filename):\n",
    "        lines = io.open(filename, encoding='utf-8').read().strip().split('\\n')\n",
    "        return [unicodeToAscii(line) for line in lines]\n",
    "    \n",
    "    # Creates a dictionary category lines = {'Category': ['Line1', 'Line2',...]}\n",
    "    # category lines = {'Arabic': ['Khoury', 'Naher',...], 'Chinese': ['Ang', 'AuYong',...], ...}\n",
    "    for filename in find_files('names/*.txt'):\n",
    "        category = os.path.splitext(os.path.basename(filename))[0]\n",
    "        all_categories.append(category) # all_categories = ['Arabic', 'Chinese', ..., 'Vietnamese']\n",
    "        lines = read_lines(filename)\n",
    "        category_lines[category] = lines\n",
    "        \n",
    "    return category_lines, all_categories"
   ]
  },
  {
   "cell_type": "code",
   "execution_count": 9,
   "id": "142da42d-67b2-4f79-acb1-9aa8c5d790d4",
   "metadata": {},
   "outputs": [
    {
     "name": "stdout",
     "output_type": "stream",
     "text": [
      "['Abel', 'Abraham', 'Adam', 'Albert', 'Allard', 'Archambault', 'Armistead', 'Arthur', 'Augustin', 'Babineaux']\n"
     ]
    }
   ],
   "source": [
    "category_lines_example, all_categories_example = load_data()\n",
    "print(category_lines_example['French'][:10])   "
   ]
  },
  {
   "attachments": {},
   "cell_type": "markdown",
   "id": "95c5f13e-fbcf-4ec2-9e8f-4a27b403a822",
   "metadata": {},
   "source": [
    "<b><p> To represent a single letter, we use a “one-hot vector” of size <1 x n_letters></p></b> \n",
    "<b><p> A one-hot vector is filled with 0s except for a 1 at index of the current letter, e.g. \"b\" = <0 1 0 0 0 ...></p></b>\n",
    "<b><p> To make a word we join a bunch of those into a 2D matrix <line_length x 1 x n_letters>, e.g. \"adam\" : <4 X 1 X 57> matrix</p></b>\n",
    "<b><p> “a” = ( 1 0 0 0 . . . ) \n",
    "<b><p> “d” = ( 0 0 0 1 . . . )</p></b>\n",
    "<b><p> “a” = ( 1 0 0 0 . . . )</p></b>\n",
    "<b><p> “m” = ( 0 0 0 0 . . 1.. )\n",
    "<b><p> That extra 1 dimension is because PyTorch assumes everything is in batches - we’re just using a batch size of 1 here</p></b>\n",
    ">"
   ]
  },
  {
   "cell_type": "code",
   "execution_count": 10,
   "id": "b565e38f-c0de-43a6-958e-320833b8555c",
   "metadata": {},
   "outputs": [],
   "source": [
    "# Find letter index from all_letters, e.g. \"a\" = 0\n",
    "def letter_to_index(letter):\n",
    "    return all_letters.find(letter)"
   ]
  },
  {
   "cell_type": "code",
   "execution_count": 11,
   "id": "7bf2d10c-dd4a-429b-9d67-23be2fc4b068",
   "metadata": {},
   "outputs": [],
   "source": [
    "# Turn a letter into a <1 X n_letters> tensor\n",
    "def letter_to_tensor(letter):\n",
    "    tensor = torch.zeros(1, n_letters)\n",
    "    tensor[0][letter_to_index(letter)] = 1\n",
    "    return tensor"
   ]
  },
  {
   "cell_type": "code",
   "execution_count": 12,
   "id": "d254bac0-4c1b-4cd5-8a37-4648a7598b64",
   "metadata": {},
   "outputs": [
    {
     "name": "stdout",
     "output_type": "stream",
     "text": [
      "tensor([[0., 0., 0., 0., 0., 0., 0., 0., 0., 0., 0., 0., 0., 0., 0., 0., 0., 0.,\n",
      "         0., 0., 0., 0., 0., 0., 0., 0., 0., 0., 0., 0., 0., 0., 0., 0., 0., 0.,\n",
      "         0., 0., 0., 1., 0., 0., 0., 0., 0., 0., 0., 0., 0., 0., 0., 0., 0., 0.,\n",
      "         0., 0., 0.]])\n",
      "torch.Size([1, 57])\n"
     ]
    }
   ],
   "source": [
    "print(letter_to_tensor('N'))\n",
    "print(letter_to_tensor('N').size())"
   ]
  },
  {
   "cell_type": "code",
   "execution_count": 13,
   "id": "a1a0cede-b1ad-4f85-941b-f3a0a8fa2d49",
   "metadata": {},
   "outputs": [],
   "source": [
    "# Turn a line into a <line_length x 1 x n_letters>, # or an array of one-hot letter vectors\n",
    "def line_to_tensor(line):\n",
    "    tensor = torch.zeros(len(line), 1, n_letters)\n",
    "    for i, letter in enumerate(line):\n",
    "        tensor[i][0][letter_to_index(letter)] = 1\n",
    "    return tensor"
   ]
  },
  {
   "cell_type": "code",
   "execution_count": 14,
   "id": "6b796721-084c-4fcc-8527-345187d20dd1",
   "metadata": {},
   "outputs": [
    {
     "name": "stdout",
     "output_type": "stream",
     "text": [
      "tensor([[[0., 0., 0., 0., 0., 0., 0., 0., 0., 0., 0., 0., 0., 0., 0., 0., 0.,\n",
      "          0., 0., 0., 0., 0., 0., 0., 0., 0., 0., 0., 1., 0., 0., 0., 0., 0.,\n",
      "          0., 0., 0., 0., 0., 0., 0., 0., 0., 0., 0., 0., 0., 0., 0., 0., 0.,\n",
      "          0., 0., 0., 0., 0., 0.]],\n",
      "\n",
      "        [[1., 0., 0., 0., 0., 0., 0., 0., 0., 0., 0., 0., 0., 0., 0., 0., 0.,\n",
      "          0., 0., 0., 0., 0., 0., 0., 0., 0., 0., 0., 0., 0., 0., 0., 0., 0.,\n",
      "          0., 0., 0., 0., 0., 0., 0., 0., 0., 0., 0., 0., 0., 0., 0., 0., 0.,\n",
      "          0., 0., 0., 0., 0., 0.]],\n",
      "\n",
      "        [[0., 0., 0., 0., 0., 0., 0., 0., 0., 0., 0., 0., 0., 0., 0., 0., 0.,\n",
      "          0., 1., 0., 0., 0., 0., 0., 0., 0., 0., 0., 0., 0., 0., 0., 0., 0.,\n",
      "          0., 0., 0., 0., 0., 0., 0., 0., 0., 0., 0., 0., 0., 0., 0., 0., 0.,\n",
      "          0., 0., 0., 0., 0., 0.]],\n",
      "\n",
      "        [[0., 0., 0., 0., 1., 0., 0., 0., 0., 0., 0., 0., 0., 0., 0., 0., 0.,\n",
      "          0., 0., 0., 0., 0., 0., 0., 0., 0., 0., 0., 0., 0., 0., 0., 0., 0.,\n",
      "          0., 0., 0., 0., 0., 0., 0., 0., 0., 0., 0., 0., 0., 0., 0., 0., 0.,\n",
      "          0., 0., 0., 0., 0., 0.]],\n",
      "\n",
      "        [[0., 0., 0., 0., 0., 0., 0., 0., 0., 0., 0., 0., 0., 0., 0., 0., 0.,\n",
      "          0., 0., 0., 0., 0., 0., 0., 1., 0., 0., 0., 0., 0., 0., 0., 0., 0.,\n",
      "          0., 0., 0., 0., 0., 0., 0., 0., 0., 0., 0., 0., 0., 0., 0., 0., 0.,\n",
      "          0., 0., 0., 0., 0., 0.]]])\n",
      "torch.Size([5, 1, 57])\n"
     ]
    }
   ],
   "source": [
    "print(line_to_tensor('Casey'))\n",
    "print(line_to_tensor('Casey').size())"
   ]
  },
  {
   "cell_type": "code",
   "execution_count": 15,
   "id": "81edeead-25b5-4aed-a738-e8d1cd56aff9",
   "metadata": {},
   "outputs": [],
   "source": [
    "# To create a random training example\n",
    "def random_training_example(category_lines, all_categories):\n",
    "    \n",
    "    def random_choice(a):\n",
    "        random_idx = random.randint(0, len(a) - 1)\n",
    "        return a[random_idx]\n",
    "    \n",
    "    category = random_choice(all_categories)\n",
    "    line = random_choice(category_lines[category])\n",
    "    category_tensor = torch.tensor([all_categories.index(category)], dtype=torch.long)\n",
    "    line_tensor = line_to_tensor(line)\n",
    "    return category, line, category_tensor, line_tensor"
   ]
  },
  {
   "cell_type": "code",
   "execution_count": 38,
   "id": "35c9becd-5732-4c67-a178-2271f3ab3c68",
   "metadata": {},
   "outputs": [
    {
     "data": {
      "text/plain": [
       "('Italian',\n",
       " 'Traversa',\n",
       " tensor([9]),\n",
       " tensor([[[0., 0., 0., 0., 0., 0., 0., 0., 0., 0., 0., 0., 0., 0., 0., 0., 0.,\n",
       "           0., 0., 0., 0., 0., 0., 0., 0., 0., 0., 0., 0., 0., 0., 0., 0., 0.,\n",
       "           0., 0., 0., 0., 0., 0., 0., 0., 0., 0., 0., 1., 0., 0., 0., 0., 0.,\n",
       "           0., 0., 0., 0., 0., 0.]],\n",
       " \n",
       "         [[0., 0., 0., 0., 0., 0., 0., 0., 0., 0., 0., 0., 0., 0., 0., 0., 0.,\n",
       "           1., 0., 0., 0., 0., 0., 0., 0., 0., 0., 0., 0., 0., 0., 0., 0., 0.,\n",
       "           0., 0., 0., 0., 0., 0., 0., 0., 0., 0., 0., 0., 0., 0., 0., 0., 0.,\n",
       "           0., 0., 0., 0., 0., 0.]],\n",
       " \n",
       "         [[1., 0., 0., 0., 0., 0., 0., 0., 0., 0., 0., 0., 0., 0., 0., 0., 0.,\n",
       "           0., 0., 0., 0., 0., 0., 0., 0., 0., 0., 0., 0., 0., 0., 0., 0., 0.,\n",
       "           0., 0., 0., 0., 0., 0., 0., 0., 0., 0., 0., 0., 0., 0., 0., 0., 0.,\n",
       "           0., 0., 0., 0., 0., 0.]],\n",
       " \n",
       "         [[0., 0., 0., 0., 0., 0., 0., 0., 0., 0., 0., 0., 0., 0., 0., 0., 0.,\n",
       "           0., 0., 0., 0., 1., 0., 0., 0., 0., 0., 0., 0., 0., 0., 0., 0., 0.,\n",
       "           0., 0., 0., 0., 0., 0., 0., 0., 0., 0., 0., 0., 0., 0., 0., 0., 0.,\n",
       "           0., 0., 0., 0., 0., 0.]],\n",
       " \n",
       "         [[0., 0., 0., 0., 1., 0., 0., 0., 0., 0., 0., 0., 0., 0., 0., 0., 0.,\n",
       "           0., 0., 0., 0., 0., 0., 0., 0., 0., 0., 0., 0., 0., 0., 0., 0., 0.,\n",
       "           0., 0., 0., 0., 0., 0., 0., 0., 0., 0., 0., 0., 0., 0., 0., 0., 0.,\n",
       "           0., 0., 0., 0., 0., 0.]],\n",
       " \n",
       "         [[0., 0., 0., 0., 0., 0., 0., 0., 0., 0., 0., 0., 0., 0., 0., 0., 0.,\n",
       "           1., 0., 0., 0., 0., 0., 0., 0., 0., 0., 0., 0., 0., 0., 0., 0., 0.,\n",
       "           0., 0., 0., 0., 0., 0., 0., 0., 0., 0., 0., 0., 0., 0., 0., 0., 0.,\n",
       "           0., 0., 0., 0., 0., 0.]],\n",
       " \n",
       "         [[0., 0., 0., 0., 0., 0., 0., 0., 0., 0., 0., 0., 0., 0., 0., 0., 0.,\n",
       "           0., 1., 0., 0., 0., 0., 0., 0., 0., 0., 0., 0., 0., 0., 0., 0., 0.,\n",
       "           0., 0., 0., 0., 0., 0., 0., 0., 0., 0., 0., 0., 0., 0., 0., 0., 0.,\n",
       "           0., 0., 0., 0., 0., 0.]],\n",
       " \n",
       "         [[1., 0., 0., 0., 0., 0., 0., 0., 0., 0., 0., 0., 0., 0., 0., 0., 0.,\n",
       "           0., 0., 0., 0., 0., 0., 0., 0., 0., 0., 0., 0., 0., 0., 0., 0., 0.,\n",
       "           0., 0., 0., 0., 0., 0., 0., 0., 0., 0., 0., 0., 0., 0., 0., 0., 0.,\n",
       "           0., 0., 0., 0., 0., 0.]]]))"
      ]
     },
     "execution_count": 38,
     "metadata": {},
     "output_type": "execute_result"
    }
   ],
   "source": [
    "random_training_example(category_lines_example, all_categories_example)"
   ]
  },
  {
   "cell_type": "markdown",
   "id": "ded0f502-0d97-4193-b36b-c9cc6438fb5d",
   "metadata": {},
   "source": [
    "<b> Creating the Network\n",
    "\n",
    "Building a RNN with just 3 linear layers which operate on an input and hidden state, with a Logsoftmax layer after the output </b>"
   ]
  },
  {
   "cell_type": "code",
   "execution_count": 17,
   "id": "93066f20-513d-4c30-865a-432dde9effbd",
   "metadata": {},
   "outputs": [],
   "source": [
    "import torch.nn as nn\n",
    "import matplotlib.pyplot as plt\n",
    "import matplotlib.ticker as ticker"
   ]
  },
  {
   "cell_type": "code",
   "execution_count": 18,
   "id": "5f20dbf4-236f-4abd-bde8-e51ab15c72dc",
   "metadata": {
    "scrolled": true
   },
   "outputs": [],
   "source": [
    "class RNN(nn.Module):\n",
    "    # implement RNN from scratch rather than using nn.RNN\n",
    "    def __init__(self, input_size, hidden_size, output_size):\n",
    "        super(RNN, self).__init__()\n",
    "        \n",
    "        self.hidden_size = hidden_size\n",
    "        self.i2h = nn.Linear(input_size + hidden_size, hidden_size) #Transforms the combined input and hidden state into a new hidden state\n",
    "        self.i2o = nn.Linear(input_size + hidden_size, output_size) #Transforms the combined input and hidden state into an output\n",
    "        self.softmax = nn.LogSoftmax(dim=1) #Converts the output into probabilities\n",
    "\n",
    "    #Forward Pass - Combines the input and hidden state, updates the hidden state, and computes the output at each timestep\n",
    "    def forward(self, input_tensor, hidden_tensor):\n",
    "        combined = torch.cat((input_tensor, hidden_tensor), 1)\n",
    "        \n",
    "        hidden = self.i2h(combined)\n",
    "        output = self.i2o(combined)\n",
    "        output = self.softmax(output)\n",
    "        return output, hidden\n",
    "    \n",
    "    def init_hidden(self): #Initialize hidden state\n",
    "        return torch.zeros(1, self.hidden_size)"
   ]
  },
  {
   "cell_type": "code",
   "execution_count": 19,
   "id": "4f1ed2e4-6759-478b-a85b-2e3008dedd64",
   "metadata": {},
   "outputs": [],
   "source": [
    "category_lines, all_categories = load_data()\n",
    "n_categories = len(all_categories) #18\n",
    "n_hidden = 128"
   ]
  },
  {
   "cell_type": "code",
   "execution_count": 20,
   "id": "e3f8766c-f50e-4863-a5d2-0de388c10014",
   "metadata": {},
   "outputs": [],
   "source": [
    "rnn = RNN(n_letters, n_hidden, n_categories)"
   ]
  },
  {
   "cell_type": "code",
   "execution_count": 21,
   "id": "f5214ba5-0b39-4241-b712-2bb8035fbc00",
   "metadata": {},
   "outputs": [
    {
     "name": "stdout",
     "output_type": "stream",
     "text": [
      "torch.Size([1, 18])\n",
      "torch.Size([1, 128])\n"
     ]
    }
   ],
   "source": [
    "# Whole Sequence/Name\n",
    "input_tensor = line_to_tensor('Albert')\n",
    "hidden_tensor = rnn.init_hidden()\n",
    "\n",
    "output, next_hidden = rnn(input_tensor[0], hidden_tensor)\n",
    "\n",
    "print(output.size())\n",
    "print(next_hidden.size())"
   ]
  },
  {
   "cell_type": "code",
   "execution_count": 22,
   "id": "52849ff0-245a-421e-b14b-d2864c51bddb",
   "metadata": {},
   "outputs": [
    {
     "data": {
      "text/plain": [
       "tensor([[-2.9739, -2.8700, -2.8429, -2.9285, -2.8550, -2.9434, -2.7881, -2.8951,\n",
       "         -2.9516, -2.8644, -2.9142, -2.8415, -2.8828, -2.9464, -2.8724, -2.8883,\n",
       "         -2.9469, -2.8424]], grad_fn=<LogSoftmaxBackward0>)"
      ]
     },
     "execution_count": 22,
     "metadata": {},
     "output_type": "execute_result"
    }
   ],
   "source": [
    "output"
   ]
  },
  {
   "cell_type": "code",
   "execution_count": 23,
   "id": "f6a2a30f-120e-47ee-9660-2e6b3ffa646d",
   "metadata": {},
   "outputs": [
    {
     "name": "stdout",
     "output_type": "stream",
     "text": [
      "Arabic: -2.9739\n",
      "Chinese: -2.8700\n",
      "Czech: -2.8429\n",
      "Dutch: -2.9285\n",
      "English: -2.8550\n",
      "French: -2.9434\n",
      "German: -2.7881\n",
      "Greek: -2.8951\n",
      "Irish: -2.9516\n",
      "Italian: -2.8644\n",
      "Japanese: -2.9142\n",
      "Korean: -2.8415\n",
      "Polish: -2.8828\n",
      "Portuguese: -2.9464\n",
      "Russian: -2.8724\n",
      "Scottish: -2.8883\n",
      "Spanish: -2.9469\n",
      "Vietnamese: -2.8424\n"
     ]
    }
   ],
   "source": [
    "# Combine categories with their corresponding scores\n",
    "output_1d = output.squeeze()\n",
    "category_scores = list(zip(all_categories, output_1d.tolist()))\n",
    "\n",
    "# Print the result\n",
    "for category, score in category_scores:\n",
    "    print(f\"{category}: {score:.4f}\")"
   ]
  },
  {
   "cell_type": "code",
   "execution_count": 24,
   "id": "f89fd4a2-00fe-4333-8c04-fa248ca97a31",
   "metadata": {},
   "outputs": [],
   "source": [
    "def category_from_output(output):\n",
    "    category_idx = torch.argmax(output).item()\n",
    "    return all_categories[category_idx]"
   ]
  },
  {
   "cell_type": "code",
   "execution_count": 25,
   "id": "0e23e761-f1fa-4aa1-ae8d-b7c4809b0745",
   "metadata": {},
   "outputs": [
    {
     "name": "stdout",
     "output_type": "stream",
     "text": [
      "German\n"
     ]
    }
   ],
   "source": [
    "print(category_from_output(output))"
   ]
  },
  {
   "cell_type": "markdown",
   "id": "498f5ab6-5bd1-4378-9c6b-2930b23c5bf6",
   "metadata": {},
   "source": [
    "<b> Training the Network </b>\n",
    "\n",
    "To train this network we show it a bunch of examples, have it make guesses, and tell it if it’s wrong."
   ]
  },
  {
   "cell_type": "markdown",
   "id": "9277258b-c694-45d4-8434-1699f5cf832b",
   "metadata": {},
   "source": [
    "<b> Each loop of training will:\r\n",
    "\r\n",
    "Create input and target tensors\r\n",
    "\r\n",
    "Create a zeroed initial hidden state\r\n",
    "\r\n",
    "Read each letter in and\r\n",
    "\r\n",
    "Keep hidden state for next letter\r\n",
    "\r\n",
    "Compare final output to target\r\n",
    "\r\n",
    "Back-propagate\r\n",
    "\r\n",
    "Return the output and loss"
   ]
  },
  {
   "cell_type": "code",
   "execution_count": 26,
   "id": "1a2838a0-f48c-4a4b-ad67-ebc7b226f3e2",
   "metadata": {},
   "outputs": [],
   "source": [
    "# Loss Function\n",
    "criterion = nn.NLLLoss()"
   ]
  },
  {
   "cell_type": "code",
   "execution_count": 27,
   "id": "032d28c9-c031-4223-893f-de8f7575f271",
   "metadata": {},
   "outputs": [],
   "source": [
    "# Learning Rate\n",
    "learning_rate = 0.005 # If you set this too high, it might explode. If too low, it might not learn"
   ]
  },
  {
   "cell_type": "code",
   "execution_count": 28,
   "id": "1189994e-2f49-41ff-b201-f1d5175e22ac",
   "metadata": {},
   "outputs": [],
   "source": [
    "# Setting up the optimizer for training RNN using the Stochastic Gradient Descent (SGD) algorithm\n",
    "optimizer = torch.optim.SGD(rnn.parameters(), lr=learning_rate)"
   ]
  },
  {
   "cell_type": "code",
   "execution_count": 29,
   "id": "113777fa-c15d-41de-8d8b-129e93715584",
   "metadata": {},
   "outputs": [],
   "source": [
    "def train(line_tensor, category_tensor):\n",
    "    hidden = rnn.init_hidden()\n",
    "\n",
    "    # Forward pass through each timestep - Processes each character in a sequence\n",
    "    for i in range(line_tensor.size()[0]):\n",
    "        output, hidden = rnn(line_tensor[i], hidden)\n",
    "        \n",
    "    loss = criterion(output, category_tensor)\n",
    "\n",
    "    # Perform backpropagation to update the model parameters based on the computed loss\n",
    "    optimizer.zero_grad() # Clears the gradients of all optimized tensors. PyTorch accumulates gradients by default, so you need to zero them before each backward pass\n",
    "    loss.backward() # Computes the gradients of the loss with respect to each parameter of the model using backpropagation\n",
    "    optimizer.step() # Updates the model parameters using the gradients computed by loss.backward()\n",
    "    \n",
    "    return output, loss.item()"
   ]
  },
  {
   "cell_type": "code",
   "execution_count": 30,
   "id": "c3d5aeb9-6d98-4c96-9acc-9a8c10c03196",
   "metadata": {},
   "outputs": [],
   "source": [
    "current_loss = 0\n",
    "all_losses = []\n",
    "plot_steps, print_steps = 1000, 5000\n",
    "n_iters = 100000"
   ]
  },
  {
   "cell_type": "code",
   "execution_count": 31,
   "id": "77e18871-7224-4f24-91ef-4ac43920512b",
   "metadata": {},
   "outputs": [
    {
     "name": "stdout",
     "output_type": "stream",
     "text": [
      "5000 5.0% 2.5208 Coilean / Scottish WRONG (Irish)\n",
      "10000 10.0% 2.0572 Leizerman / Dutch WRONG (Russian)\n",
      "15000 15.0% 0.6653 Iwahara / Japanese CORRECT\n",
      "20000 20.0% 1.4408 Gaber / Arabic CORRECT\n",
      "25000 25.0% 1.2956 Jian / Chinese CORRECT\n",
      "30000 30.0% 1.9067 Blaise / Arabic WRONG (French)\n",
      "35000 35.0% 1.5376 Janvier / French CORRECT\n",
      "40000 40.0% 0.0627 Nishihara / Japanese CORRECT\n",
      "45000 45.0% 0.7787 Magalhaes / Portuguese CORRECT\n",
      "50000 50.0% 2.3424 Baba / Japanese WRONG (Arabic)\n",
      "55000 55.00000000000001% 2.6152 Santana / Spanish WRONG (Portuguese)\n",
      "60000 60.0% 2.3881 Aleshite / French WRONG (German)\n",
      "65000 65.0% 0.4012 Puerta / Spanish CORRECT\n",
      "70000 70.0% 0.6808 Worner / German CORRECT\n",
      "75000 75.0% 0.1626 Napoleoni / Italian CORRECT\n",
      "80000 80.0% 4.7237 Names / Arabic WRONG (Irish)\n",
      "85000 85.0% 0.5126 Zhelezko / Russian CORRECT\n",
      "90000 90.0% 0.1706 Zeng / Chinese CORRECT\n",
      "95000 95.0% 4.0657 Guerra / Portuguese WRONG (Italian)\n",
      "100000 100.0% 0.4358 Jackson / Scottish CORRECT\n"
     ]
    }
   ],
   "source": [
    "#Training Loop for the RNN model\n",
    "for i in range(n_iters):\n",
    "    category, line, category_tensor, line_tensor = random_training_example(category_lines, all_categories)\n",
    "    \n",
    "    output, loss = train(line_tensor, category_tensor)\n",
    "    current_loss += loss \n",
    "    \n",
    "    if (i+1) % plot_steps == 0:\n",
    "        all_losses.append(current_loss / plot_steps)\n",
    "        current_loss = 0\n",
    "        \n",
    "    if (i+1) % print_steps == 0:\n",
    "        guess = category_from_output(output)\n",
    "        correct = \"CORRECT\" if guess == category else f\"WRONG ({category})\"\n",
    "        print(f\"{i+1} {(i+1)/n_iters*100}% {loss:.4f} {line} / {guess} {correct}\")"
   ]
  },
  {
   "cell_type": "code",
   "execution_count": 33,
   "id": "6c00cf71-df7a-480b-a30d-0f8439639452",
   "metadata": {},
   "outputs": [
    {
     "data": {
      "image/png": "[encoded data removed]",
      "text/plain": [
       "<Figure size 640x480 with 1 Axes>"
      ]
     },
     "metadata": {},
     "output_type": "display_data"
    }
   ],
   "source": [
    "plt.figure()\n",
    "plt.plot(all_losses)\n",
    "plt.show()"
   ]
  },
  {
   "cell_type": "markdown",
   "id": "9c840922-6fbc-4b0c-b4cf-ee707f92c357",
   "metadata": {},
   "source": [
    "<b> Evaluating the Results </b>"
   ]
  },
  {
   "cell_type": "markdown",
   "id": "de8f3ce4-2a30-427b-8fae-97d5c8fc5366",
   "metadata": {},
   "source": [
    "To see how well the network performs on different categories, we will create a confusion matrix, indicating for every actual language (rows) which language the network guesses (columns). To calculate the confusion matrix a bunch of samples are run through the network with evaluate(), which is the same as train() minus the backprop."
   ]
  },
  {
   "cell_type": "code",
   "execution_count": 35,
   "id": "6ee3cb5b-eed2-4419-842c-e2a29d729455",
   "metadata": {},
   "outputs": [
    {
     "data": {
      "image/png": "[encoded data removed]",
      "text/plain": [
       "<Figure size 640x480 with 2 Axes>"
      ]
     },
     "metadata": {},
     "output_type": "display_data"
    }
   ],
   "source": [
    "#Keep track of correct guesses in a confusion matrix\n",
    "confusion = torch.zeros(n_categories, n_categories)  # n_categories should be the number of language categories\n",
    "n_confusion = 10000  # Number of examples to evaluate\n",
    "\n",
    "# Function to evaluate a line and get the output from the model\n",
    "def evaluate(line_tensor):\n",
    "    hidden = rnn.init_hidden()  # Initialize hidden state\n",
    "    for i in range(line_tensor.size()[0]):  # Loop through the line's characters\n",
    "        output, hidden = rnn(line_tensor[i], hidden)  # Get output from the RNN\n",
    "    return output  # Return the output (logits for categories)\n",
    "\n",
    "# Loop to populate the confusion matrix\n",
    "for i in range(n_confusion):\n",
    "    category, line, category_tensor, line_tensor = random_training_example(category_lines, all_categories)\n",
    "    output = evaluate(line_tensor)  # Get the model's output for the input\n",
    "    guess_i = all_categories.index(category_from_output(output))  # Predicted category index\n",
    "    category_i = all_categories.index(category)  # Actual category index\n",
    "    confusion[category_i, guess_i] += 1  # Use comma to index a 2D tensor properly\n",
    "\n",
    "# Normalize the confusion matrix row-wise\n",
    "for i in range(n_categories):\n",
    "    confusion[i] = confusion[i] / confusion[i].sum()  # Normalize by the sum of each row\n",
    "\n",
    "# Plotting the confusion matrix as a heat map\n",
    "fig, ax = plt.subplots()\n",
    "cax = ax.matshow(confusion.numpy())\n",
    "fig.colorbar(cax)  # Add color bar\n",
    "\n",
    "# Set up axis labels\n",
    "ax.set_xticks(range(n_categories))\n",
    "ax.set_yticks(range(n_categories))\n",
    "ax.set_xticklabels(all_categories, rotation=90)  # Rotate category labels for readability\n",
    "ax.set_yticklabels(all_categories)\n",
    "\n",
    "# Force label at every tick\n",
    "ax.xaxis.set_major_locator(ticker.MultipleLocator(1))\n",
    "ax.yaxis.set_major_locator(ticker.MultipleLocator(1))\n",
    "\n",
    "plt.show()"
   ]
  },
  {
   "cell_type": "markdown",
   "id": "2c1b0aa7-0d35-4053-927d-3b7a63ec72ab",
   "metadata": {},
   "source": [
    "<b> Testing the model on unseen data </b>"
   ]
  },
  {
   "cell_type": "code",
   "execution_count": 36,
   "id": "81712baf-5571-4307-ae3c-8d67c6493a0e",
   "metadata": {},
   "outputs": [],
   "source": [
    "def predict(input_line):\n",
    "    print(f\"\\n> {input_line}\")\n",
    "    with torch.no_grad():\n",
    "        line_tensor = line_to_tensor(input_line)\n",
    "        \n",
    "        hidden = rnn.init_hidden()\n",
    "    \n",
    "        for i in range(line_tensor.size()[0]):\n",
    "            output, hidden = rnn(line_tensor[i], hidden)\n",
    "        \n",
    "        guess = category_from_output(output)\n",
    "        print(f\"\\n{guess}\")"
   ]
  },
  {
   "cell_type": "code",
   "execution_count": 37,
   "id": "5a7ad3e3-9d2a-431c-add7-b47f4fdc683f",
   "metadata": {
    "scrolled": true
   },
   "outputs": [
    {
     "name": "stdin",
     "output_type": "stream",
     "text": [
      "Input: Zimmer\n"
     ]
    },
    {
     "name": "stdout",
     "output_type": "stream",
     "text": [
      "\n",
      "> Zimmer\n",
      "\n",
      "German\n"
     ]
    },
    {
     "name": "stdin",
     "output_type": "stream",
     "text": [
      "Input: Vlad\n"
     ]
    },
    {
     "name": "stdout",
     "output_type": "stream",
     "text": [
      "\n",
      "> Vlad\n",
      "\n",
      "English\n"
     ]
    },
    {
     "name": "stdin",
     "output_type": "stream",
     "text": [
      "Input: Chen\n"
     ]
    },
    {
     "name": "stdout",
     "output_type": "stream",
     "text": [
      "\n",
      "> Chen\n",
      "\n",
      "Korean\n"
     ]
    },
    {
     "name": "stdin",
     "output_type": "stream",
     "text": [
      "Input: Beckham\n"
     ]
    },
    {
     "name": "stdout",
     "output_type": "stream",
     "text": [
      "\n",
      "> Beckham\n",
      "\n",
      "Arabic\n"
     ]
    },
    {
     "name": "stdin",
     "output_type": "stream",
     "text": [
      "Input: Bukowski\n"
     ]
    },
    {
     "name": "stdout",
     "output_type": "stream",
     "text": [
      "\n",
      "> Bukowski\n",
      "\n",
      "Polish\n"
     ]
    },
    {
     "name": "stdin",
     "output_type": "stream",
     "text": [
      "Input: Asghar\n"
     ]
    },
    {
     "name": "stdout",
     "output_type": "stream",
     "text": [
      "\n",
      "> Asghar\n",
      "\n",
      "Arabic\n"
     ]
    },
    {
     "name": "stdin",
     "output_type": "stream",
     "text": [
      "Input: Chang\n"
     ]
    },
    {
     "name": "stdout",
     "output_type": "stream",
     "text": [
      "\n",
      "> Chang\n",
      "\n",
      "Korean\n"
     ]
    },
    {
     "name": "stdin",
     "output_type": "stream",
     "text": [
      "Input: quit\n"
     ]
    }
   ],
   "source": [
    "while True:\n",
    "    sentence = input(\"Input:\")\n",
    "    if sentence == \"quit\":\n",
    "        break\n",
    "    \n",
    "    predict(sentence)"
   ]
  },
  {
   "cell_type": "code",
   "execution_count": null,
   "id": "05bf7a9b-96fe-408c-961a-4704c6f9bfec",
   "metadata": {},
   "outputs": [],
   "source": []
  }
 ],
 "metadata": {
  "kernelspec": {
   "display_name": "Python 3 (ipykernel)",
   "language": "python",
   "name": "python3"
  },
  "language_info": {
   "codemirror_mode": {
    "name": "ipython",
    "version": 3
   },
   "file_extension": ".py",
   "mimetype": "text/x-python",
   "name": "python",
   "nbconvert_exporter": "python",
   "pygments_lexer": "ipython3",
   "version": "3.8.3"
  }
 },
 "nbformat": 4,
 "nbformat_minor": 5
}
